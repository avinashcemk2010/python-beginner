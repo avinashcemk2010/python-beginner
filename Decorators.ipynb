{
 "cells": [
  {
   "cell_type": "markdown",
   "id": "5651a4a0",
   "metadata": {},
   "source": [
    "https://pythongeeks.org/python-decorators/#:~:text=Decorators%20in%20Python%201%20Creating%20a%20Decorator%20in,Python%20...%205%20Multiple%20Decorators%20in%20Python%20"
   ]
  },
  {
   "cell_type": "markdown",
   "id": "22ec2422",
   "metadata": {},
   "source": [
    "https://towardsdatascience.com/closures-and-decorators-in-python-2551abbc6eb6#:~:text=Closures%20are%20an%20important%20tool%20in%20functional%20programming%2C,behavior%20of%20a%20function%20without%20permanently%20modifying%20it."
   ]
  },
  {
   "cell_type": "code",
   "execution_count": 5,
   "id": "dcb6ec33",
   "metadata": {},
   "outputs": [
    {
     "name": "stdout",
     "output_type": "stream",
     "text": [
      "before\n",
      "hello\n",
      "after\n"
     ]
    }
   ],
   "source": [
    "def logtime(func):\n",
    "    def wrapper():\n",
    "        print(\"before\")\n",
    "        val = func()\n",
    "        print(\"after\")\n",
    "    return wrapper\n",
    "\n",
    "@logtime\n",
    "def hello():\n",
    "    print(\"hello\")\n",
    "  \n",
    "hello()\n"
   ]
  },
  {
   "cell_type": "code",
   "execution_count": null,
   "id": "b033fcbb",
   "metadata": {},
   "outputs": [],
   "source": []
  }
 ],
 "metadata": {
  "kernelspec": {
   "display_name": "Python 3 (ipykernel)",
   "language": "python",
   "name": "python3"
  },
  "language_info": {
   "codemirror_mode": {
    "name": "ipython",
    "version": 3
   },
   "file_extension": ".py",
   "mimetype": "text/x-python",
   "name": "python",
   "nbconvert_exporter": "python",
   "pygments_lexer": "ipython3",
   "version": "3.9.12"
  }
 },
 "nbformat": 4,
 "nbformat_minor": 5
}
