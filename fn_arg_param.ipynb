{
 "cells": [
  {
   "cell_type": "code",
   "execution_count": 1,
   "id": "39f3d5f1",
   "metadata": {},
   "outputs": [
    {
     "name": "stdout",
     "output_type": "stream",
     "text": [
      "4 2 3\n",
      "3 2 4\n",
      "1 2 6\n"
     ]
    }
   ],
   "source": [
    "def foo(a, b, c=6):\n",
    "    print(a, b, c)\n",
    "    \n",
    "foo(c=3, b=2, a=4)\n",
    "foo(3, b=2, c=4)\n",
    "foo(1,2)\n",
    "#foo(3, b=2, a=4) : this will throw error\n",
    "#foo(3, b=2, 4) : this will throw error"
   ]
  },
  {
   "cell_type": "code",
   "execution_count": 2,
   "id": "2d4dbf66",
   "metadata": {},
   "outputs": [
    {
     "name": "stdout",
     "output_type": "stream",
     "text": [
      "1 2\n",
      "3\n",
      "4\n",
      "5\n",
      "6\n",
      "seven 7\n",
      "eight 8\n",
      "1 2\n",
      "3\n",
      "4\n"
     ]
    }
   ],
   "source": [
    "def foo(a, b, *args, **kwargs):\n",
    "    print(a, b)\n",
    "    \n",
    "    for arg in args:\n",
    "        print(arg)\n",
    "        \n",
    "    for key, item in kwargs.items():\n",
    "        print(key, item)\n",
    "        \n",
    "foo(1,2,3,4,5,6,seven=7,eight=8)\n",
    "foo(1,2,3,4)"
   ]
  },
  {
   "cell_type": "code",
   "execution_count": 3,
   "id": "b5eeb401",
   "metadata": {},
   "outputs": [
    {
     "name": "stdout",
     "output_type": "stream",
     "text": [
      "3 4\n",
      "1\n",
      "2\n"
     ]
    }
   ],
   "source": [
    "def foo(*args, c, d):\n",
    "    print(c,d)\n",
    "    \n",
    "    for i in args:\n",
    "        print(i)\n",
    "    \n",
    "foo(1,2,c=3,d=4)"
   ]
  },
  {
   "cell_type": "code",
   "execution_count": 4,
   "id": "5416dd73",
   "metadata": {},
   "outputs": [
    {
     "name": "stdout",
     "output_type": "stream",
     "text": [
      "1 2 3\n"
     ]
    }
   ],
   "source": [
    "def foo(a,b,c):\n",
    "    print(a,b,c)\n",
    "    \n",
    "mylist = [1,2,3] #we can use tuple as well\n",
    "foo(*mylist)"
   ]
  },
  {
   "cell_type": "code",
   "execution_count": 5,
   "id": "8240d213",
   "metadata": {},
   "outputs": [
    {
     "name": "stdout",
     "output_type": "stream",
     "text": [
      "1 2 3\n"
     ]
    }
   ],
   "source": [
    "def foo(a,b,c):\n",
    "    print(a,b,c)\n",
    "    \n",
    "mydict = {\"a\":1,\"b\":2,\"c\":3}\n",
    "foo(**mydict)"
   ]
  },
  {
   "cell_type": "code",
   "execution_count": 6,
   "id": "e45880c2",
   "metadata": {},
   "outputs": [
    {
     "name": "stdout",
     "output_type": "stream",
     "text": [
      "Inside function x=3\n"
     ]
    }
   ],
   "source": [
    "def foo():\n",
    "    number = 3\n",
    "    x = number\n",
    "    print(f\"Inside function x={x}\")\n",
    "    \n",
    "number = 0\n",
    "foo()"
   ]
  },
  {
   "cell_type": "code",
   "execution_count": 7,
   "id": "7d5a7c78",
   "metadata": {},
   "outputs": [
    {
     "name": "stdout",
     "output_type": "stream",
     "text": [
      "Inside function x=10\n"
     ]
    },
    {
     "data": {
      "text/plain": [
       "56"
      ]
     },
     "execution_count": 7,
     "metadata": {},
     "output_type": "execute_result"
    }
   ],
   "source": [
    "def foo():\n",
    "    global number\n",
    "    x = number\n",
    "    print(f\"Inside function x={x}\")\n",
    "    number = 56\n",
    "    \n",
    "number = 10\n",
    "foo()\n",
    "number"
   ]
  },
  {
   "cell_type": "code",
   "execution_count": 11,
   "id": "b4e49d09",
   "metadata": {},
   "outputs": [
    {
     "name": "stdout",
     "output_type": "stream",
     "text": [
      "[1, 2, 3, 4]\n"
     ]
    }
   ],
   "source": [
    "#Mutable objects can be modified within a function, eg a list\n",
    "#Immutable objects contained within mutable objects can be changed, eg: int within a list\n",
    "def foo(a_list):\n",
    "    a_list.append(4)\n",
    "    \n",
    "my_list = [1,2,3]\n",
    "foo(my_list)\n",
    "print(my_list)"
   ]
  },
  {
   "cell_type": "code",
   "execution_count": 9,
   "id": "401ae8df",
   "metadata": {},
   "outputs": [
    {
     "name": "stdout",
     "output_type": "stream",
     "text": [
      "Inside function number=56\n"
     ]
    },
    {
     "data": {
      "text/plain": [
       "10"
      ]
     },
     "execution_count": 9,
     "metadata": {},
     "output_type": "execute_result"
    }
   ],
   "source": [
    "#Immutable objects cannot be modified within a function\n",
    "def foo(number):\n",
    "    number = 56\n",
    "    print(f\"Inside function number={number}\")\n",
    "    \n",
    "number = 10\n",
    "foo(number)\n",
    "number"
   ]
  }
 ],
 "metadata": {
  "kernelspec": {
   "display_name": "Python 3 (ipykernel)",
   "language": "python",
   "name": "python3"
  },
  "language_info": {
   "codemirror_mode": {
    "name": "ipython",
    "version": 3
   },
   "file_extension": ".py",
   "mimetype": "text/x-python",
   "name": "python",
   "nbconvert_exporter": "python",
   "pygments_lexer": "ipython3",
   "version": "3.9.12"
  }
 },
 "nbformat": 4,
 "nbformat_minor": 5
}
