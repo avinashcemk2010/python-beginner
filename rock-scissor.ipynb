{
 "cells": [
  {
   "cell_type": "code",
   "execution_count": 1,
   "id": "2a15ad01",
   "metadata": {},
   "outputs": [],
   "source": [
    "import random"
   ]
  },
  {
   "cell_type": "code",
   "execution_count": 2,
   "id": "6b8339b0",
   "metadata": {},
   "outputs": [],
   "source": [
    "def get_choices():\n",
    "    player_choice=input(\"Enter a choice(rock, paper, scissors):\")\n",
    "    options=[\"rock\",\"paper\",\"scissors\"]\n",
    "    computer_choice=random.choice(options)\n",
    "    choices={\"player\":player_choice, \"computer\":computer_choice}\n",
    "    return choices"
   ]
  },
  {
   "cell_type": "code",
   "execution_count": 3,
   "id": "72e6a060",
   "metadata": {},
   "outputs": [
    {
     "name": "stdout",
     "output_type": "stream",
     "text": [
      "You chose rock, Computer chose paper\n"
     ]
    },
    {
     "data": {
      "text/plain": [
       "'Paper covers rock! You lose!'"
      ]
     },
     "execution_count": 3,
     "metadata": {},
     "output_type": "execute_result"
    }
   ],
   "source": [
    "def check_win(player, computer):\n",
    "    print(f\"You chose {player}, Computer chose {computer}\")\n",
    "    if player == computer:\n",
    "        return \"It's a tie!\"\n",
    "    elif player == \"rock\":\n",
    "        if computer == \"scissors\":\n",
    "            return \"Rock smashes scissors! You win!\"\n",
    "        else:\n",
    "            return \"Paper covers rock! You lose!\"\n",
    "    elif player == \"paper\":\n",
    "        if computer == \"rock\":\n",
    "            return \"Paper covers rock! You win!\"\n",
    "        else:\n",
    "            return \"Scissor cuts paper! You lose.\"\n",
    "    elif player == \"Scissors\":\n",
    "        if computer == \"paper\":\n",
    "            return \"Scissor cuts paper! You win.\"\n",
    "        else:\n",
    "            return \"Rock smashes scissors! You lose!\"\n",
    "\n",
    "check_win(\"rock\",\"paper\")"
   ]
  },
  {
   "cell_type": "code",
   "execution_count": 5,
   "id": "8f45ee1e",
   "metadata": {},
   "outputs": [
    {
     "name": "stdout",
     "output_type": "stream",
     "text": [
      "Enter a choice(rock, paper, scissors):paper\n",
      "You chose paper, Computer chose scissors\n",
      "Scissor cuts paper! You lose.\n"
     ]
    }
   ],
   "source": [
    "choices = get_choices()\n",
    "result = check_win(choices['player'], choices['computer'])\n",
    "print(result)"
   ]
  }
 ],
 "metadata": {
  "kernelspec": {
   "display_name": "Python 3 (ipykernel)",
   "language": "python",
   "name": "python3"
  },
  "language_info": {
   "codemirror_mode": {
    "name": "ipython",
    "version": 3
   },
   "file_extension": ".py",
   "mimetype": "text/x-python",
   "name": "python",
   "nbconvert_exporter": "python",
   "pygments_lexer": "ipython3",
   "version": "3.9.12"
  }
 },
 "nbformat": 4,
 "nbformat_minor": 5
}
