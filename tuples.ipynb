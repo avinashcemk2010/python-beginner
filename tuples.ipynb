{
 "cells": [
  {
   "cell_type": "code",
   "execution_count": 1,
   "id": "80d3482b",
   "metadata": {},
   "outputs": [
    {
     "data": {
      "text/plain": [
       "'Roger'"
      ]
     },
     "execution_count": 1,
     "metadata": {},
     "output_type": "execute_result"
    }
   ],
   "source": [
    "#immutable data structure, cannot add/remove items\n",
    "names = (\"Roger\", \"Syd\")\n",
    "names[0]"
   ]
  },
  {
   "cell_type": "code",
   "execution_count": 2,
   "id": "c0210e10",
   "metadata": {},
   "outputs": [
    {
     "data": {
      "text/plain": [
       "0"
      ]
     },
     "execution_count": 2,
     "metadata": {},
     "output_type": "execute_result"
    }
   ],
   "source": [
    "names.index(\"Roger\")"
   ]
  },
  {
   "cell_type": "code",
   "execution_count": 3,
   "id": "e03f7ff1",
   "metadata": {},
   "outputs": [
    {
     "data": {
      "text/plain": [
       "True"
      ]
     },
     "execution_count": 3,
     "metadata": {},
     "output_type": "execute_result"
    }
   ],
   "source": [
    "\"Roger\" in names"
   ]
  },
  {
   "cell_type": "code",
   "execution_count": 4,
   "id": "0cdbbe3c",
   "metadata": {},
   "outputs": [
    {
     "data": {
      "text/plain": [
       "['Roger', 'Syd']"
      ]
     },
     "execution_count": 4,
     "metadata": {},
     "output_type": "execute_result"
    }
   ],
   "source": [
    "sorted(names)"
   ]
  },
  {
   "cell_type": "code",
   "execution_count": 6,
   "id": "86fd3cfa",
   "metadata": {},
   "outputs": [
    {
     "data": {
      "text/plain": [
       "('Roger', 'Syd', 'Tina', 'Mohit')"
      ]
     },
     "execution_count": 6,
     "metadata": {},
     "output_type": "execute_result"
    }
   ],
   "source": [
    "newTuples = names + (\"Tina\", \"Mohit\")\n",
    "newTuples"
   ]
  },
  {
   "cell_type": "code",
   "execution_count": null,
   "id": "f0aa7391",
   "metadata": {},
   "outputs": [],
   "source": []
  }
 ],
 "metadata": {
  "kernelspec": {
   "display_name": "Python 3 (ipykernel)",
   "language": "python",
   "name": "python3"
  },
  "language_info": {
   "codemirror_mode": {
    "name": "ipython",
    "version": 3
   },
   "file_extension": ".py",
   "mimetype": "text/x-python",
   "name": "python",
   "nbconvert_exporter": "python",
   "pygments_lexer": "ipython3",
   "version": "3.9.12"
  }
 },
 "nbformat": 4,
 "nbformat_minor": 5
}
