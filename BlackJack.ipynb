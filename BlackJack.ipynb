{
 "cells": [
  {
   "cell_type": "code",
   "execution_count": 55,
   "id": "7dc92a42",
   "metadata": {},
   "outputs": [
    {
     "data": {
      "text/plain": [
       "{'rank': 'Q', 'value': 10}"
      ]
     },
     "execution_count": 55,
     "metadata": {},
     "output_type": "execute_result"
    }
   ],
   "source": [
    "import random\n",
    "\n",
    "cards = []\n",
    "suits = [\"spades\", \"clubs\", \"hearts\", \"diamonds\"]\n",
    "ranks = [\"A\", \"2\", \"3\", \"4\", \"5\", \"6\", \"7\", \"8\", \"9\", \"10\", \"J\", \"K\", \"Q\"]\n",
    "\n",
    "for suit in suits:\n",
    "    for rank in ranks:\n",
    "        cards.append([suit,rank])\n",
    "        \n",
    "def shuffle():\n",
    "    random.shuffle(cards)\n",
    "\n",
    "def deal(number):\n",
    "    cards_dealt = []\n",
    "    for x in range(number):\n",
    "        cards_dealt.append(cards.pop())\n",
    "    return cards_dealt\n",
    "\n",
    "shuffle()\n",
    "cards_dealt = deal(2)\n",
    "card = cards_dealt[0]\n",
    "rank = card[1]\n",
    "\n",
    "if rank == \"A\":\n",
    "    value = 11\n",
    "elif rank == \"J\" or rank == \"Q\" or rank == \"K\":\n",
    "    value = 10\n",
    "else:\n",
    "    value = rank\n",
    "\n",
    "rank_dict = {\"rank\": rank, \"value\": value}\n",
    "rank_dict"
   ]
  },
  {
   "cell_type": "code",
   "execution_count": null,
   "id": "d62fc75f",
   "metadata": {},
   "outputs": [],
   "source": []
  },
  {
   "cell_type": "code",
   "execution_count": null,
   "id": "74049f90",
   "metadata": {},
   "outputs": [],
   "source": []
  }
 ],
 "metadata": {
  "kernelspec": {
   "display_name": "Python 3 (ipykernel)",
   "language": "python",
   "name": "python3"
  },
  "language_info": {
   "codemirror_mode": {
    "name": "ipython",
    "version": 3
   },
   "file_extension": ".py",
   "mimetype": "text/x-python",
   "name": "python",
   "nbconvert_exporter": "python",
   "pygments_lexer": "ipython3",
   "version": "3.9.12"
  }
 },
 "nbformat": 4,
 "nbformat_minor": 5
}
