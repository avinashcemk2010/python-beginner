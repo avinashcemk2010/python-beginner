{
 "cells": [
  {
   "cell_type": "code",
   "execution_count": 1,
   "id": "29dbd9e1",
   "metadata": {},
   "outputs": [
    {
     "name": "stdout",
     "output_type": "stream",
     "text": [
      "{'Syd', 'Avi', 'Roger'}\n",
      "{'Avi', 'Roger'}\n"
     ]
    },
    {
     "data": {
      "text/plain": [
       "set"
      ]
     },
     "execution_count": 1,
     "metadata": {},
     "output_type": "execute_result"
    }
   ],
   "source": [
    "#unordered, mutable, no duplicates\n",
    "names = {\"Roger\", \"Syd\"}\n",
    "names.add(\"Avi\")\n",
    "print(names)\n",
    "names.discard(\"Syd\")\n",
    "print(names)\n",
    "type(names)"
   ]
  },
  {
   "cell_type": "code",
   "execution_count": 2,
   "id": "c42b26fa",
   "metadata": {},
   "outputs": [
    {
     "name": "stdout",
     "output_type": "stream",
     "text": [
      "{'Stuart'}\n"
     ]
    }
   ],
   "source": [
    "set1 = {\"Stuart\", \"Binny\"}\n",
    "set2 = {\"Roger\", \"Eastward\", \"Stuart\"}\n",
    "intersect = set1 & set2\n",
    "print(intersect)"
   ]
  },
  {
   "cell_type": "code",
   "execution_count": 3,
   "id": "b9426656",
   "metadata": {},
   "outputs": [
    {
     "data": {
      "text/plain": [
       "{'Binny', 'Eastward', 'Roger', 'Stuart'}"
      ]
     },
     "execution_count": 3,
     "metadata": {},
     "output_type": "execute_result"
    }
   ],
   "source": [
    "mod = set1 | set2\n",
    "mod"
   ]
  },
  {
   "cell_type": "code",
   "execution_count": 4,
   "id": "39996c5f",
   "metadata": {},
   "outputs": [
    {
     "data": {
      "text/plain": [
       "{'Binny'}"
      ]
     },
     "execution_count": 4,
     "metadata": {},
     "output_type": "execute_result"
    }
   ],
   "source": [
    "set1 - set2"
   ]
  },
  {
   "cell_type": "code",
   "execution_count": 5,
   "id": "6856d3fc",
   "metadata": {},
   "outputs": [
    {
     "data": {
      "text/plain": [
       "2"
      ]
     },
     "execution_count": 5,
     "metadata": {},
     "output_type": "execute_result"
    }
   ],
   "source": [
    "len(set1)"
   ]
  },
  {
   "cell_type": "code",
   "execution_count": 6,
   "id": "df44eec7",
   "metadata": {},
   "outputs": [
    {
     "data": {
      "text/plain": [
       "['Binny', 'Stuart']"
      ]
     },
     "execution_count": 6,
     "metadata": {},
     "output_type": "execute_result"
    }
   ],
   "source": [
    "list(set1)"
   ]
  },
  {
   "cell_type": "code",
   "execution_count": 7,
   "id": "dd6389fa",
   "metadata": {},
   "outputs": [
    {
     "data": {
      "text/plain": [
       "'Binny'"
      ]
     },
     "execution_count": 7,
     "metadata": {},
     "output_type": "execute_result"
    }
   ],
   "source": [
    "set1.pop()"
   ]
  },
  {
   "cell_type": "code",
   "execution_count": 8,
   "id": "7557ae4a",
   "metadata": {},
   "outputs": [
    {
     "name": "stdout",
     "output_type": "stream",
     "text": [
      "Stuart\n"
     ]
    }
   ],
   "source": [
    "for x in set1:\n",
    "    print(x)"
   ]
  },
  {
   "cell_type": "code",
   "execution_count": 10,
   "id": "84919bfd",
   "metadata": {},
   "outputs": [
    {
     "name": "stdout",
     "output_type": "stream",
     "text": [
      "{1, 2, 3, 4, 5, 6, 7, 8}\n",
      "set()\n"
     ]
    }
   ],
   "source": [
    "odds = {1,3,5,7}\n",
    "evens = {2,4,6,8}\n",
    "u = odds.union(evens)\n",
    "print(u)\n",
    "i = odds.intersection(evens)\n",
    "print(i)"
   ]
  },
  {
   "cell_type": "code",
   "execution_count": null,
   "id": "8e0f38a9",
   "metadata": {},
   "outputs": [],
   "source": [
    "#frozenset can be used to declare a set that cannot be changed once declared"
   ]
  }
 ],
 "metadata": {
  "kernelspec": {
   "display_name": "Python 3 (ipykernel)",
   "language": "python",
   "name": "python3"
  },
  "language_info": {
   "codemirror_mode": {
    "name": "ipython",
    "version": 3
   },
   "file_extension": ".py",
   "mimetype": "text/x-python",
   "name": "python",
   "nbconvert_exporter": "python",
   "pygments_lexer": "ipython3",
   "version": "3.9.12"
  }
 },
 "nbformat": 4,
 "nbformat_minor": 5
}
