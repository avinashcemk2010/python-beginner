{
 "cells": [
  {
   "cell_type": "markdown",
   "id": "e1d5890b",
   "metadata": {},
   "source": [
    "https://www.geeksforgeeks.org/python-difference-between-json-dump-and-json-dumps/"
   ]
  },
  {
   "cell_type": "code",
   "execution_count": 1,
   "id": "f1cd4f7d",
   "metadata": {},
   "outputs": [],
   "source": [
    "import json"
   ]
  },
  {
   "cell_type": "code",
   "execution_count": 2,
   "id": "e91c20c9",
   "metadata": {},
   "outputs": [
    {
     "data": {
      "text/plain": [
       "'{\"age\": 25, \"name\": \"Geeks\", \"title\": [\"Geeks\", \"Creep\"]}'"
      ]
     },
     "execution_count": 2,
     "metadata": {},
     "output_type": "execute_result"
    }
   ],
   "source": [
    "dict = {\"name\": 'Geeks', \"age\": 25, \"title\": [\"Geeks\",\"Creep\"]}\n",
    "dict_json = json.dumps(dict, sort_keys=True) #converts dict to json object\n",
    "dict_json"
   ]
  },
  {
   "cell_type": "code",
   "execution_count": 3,
   "id": "4fc07531",
   "metadata": {},
   "outputs": [],
   "source": [
    "#dump json to a file\n",
    "with open(\"person.json\", \"w\") as file:\n",
    "    json.dump(dict, file, indent=4)"
   ]
  },
  {
   "cell_type": "code",
   "execution_count": 4,
   "id": "5e71cd3f",
   "metadata": {},
   "outputs": [
    {
     "data": {
      "text/plain": [
       "{'age': 25, 'name': 'Geeks', 'title': ['Geeks', 'Creep']}"
      ]
     },
     "execution_count": 4,
     "metadata": {},
     "output_type": "execute_result"
    }
   ],
   "source": [
    "json.loads(dict_json)"
   ]
  },
  {
   "cell_type": "code",
   "execution_count": 5,
   "id": "7cdbbe14",
   "metadata": {},
   "outputs": [
    {
     "data": {
      "text/plain": [
       "{'name': 'Geeks', 'age': 25, 'title': ['Geeks', 'Creep']}"
      ]
     },
     "execution_count": 5,
     "metadata": {},
     "output_type": "execute_result"
    }
   ],
   "source": [
    "with open(\"person.json\", \"r\") as file:\n",
    "    person = json.load(file)\n",
    "    \n",
    "person"
   ]
  },
  {
   "cell_type": "code",
   "execution_count": 6,
   "id": "7374a7b5",
   "metadata": {},
   "outputs": [
    {
     "data": {
      "text/plain": [
       "'{\"name\": \"Max\", \"age\": 29}'"
      ]
     },
     "execution_count": 6,
     "metadata": {},
     "output_type": "execute_result"
    }
   ],
   "source": [
    "#encode custom object\n",
    "\n",
    "import json\n",
    "\n",
    "class User:\n",
    "    def __init__(self, name, age):\n",
    "        self.name = name\n",
    "        self.age = age\n",
    "        \n",
    "user = User(\"Max\", 29)\n",
    "\n",
    "def encode_user(obj):\n",
    "    if isinstance(obj, User):\n",
    "        return {\"name\": obj.name, \"age\": obj.age}\n",
    "    else:\n",
    "        raise TypeError(\"\")\n",
    "        \n",
    "userJson = json.dumps(user, default=encode_user)\n",
    "userJson"
   ]
  },
  {
   "cell_type": "code",
   "execution_count": null,
   "id": "5e06d9b0",
   "metadata": {},
   "outputs": [],
   "source": []
  }
 ],
 "metadata": {
  "kernelspec": {
   "display_name": "Python 3 (ipykernel)",
   "language": "python",
   "name": "python3"
  },
  "language_info": {
   "codemirror_mode": {
    "name": "ipython",
    "version": 3
   },
   "file_extension": ".py",
   "mimetype": "text/x-python",
   "name": "python",
   "nbconvert_exporter": "python",
   "pygments_lexer": "ipython3",
   "version": "3.9.12"
  }
 },
 "nbformat": 4,
 "nbformat_minor": 5
}
