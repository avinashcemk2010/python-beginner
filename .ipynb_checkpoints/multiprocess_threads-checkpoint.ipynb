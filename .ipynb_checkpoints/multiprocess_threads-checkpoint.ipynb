{
 "cells": [
  {
   "cell_type": "code",
   "execution_count": 1,
   "id": "ac283a73",
   "metadata": {},
   "outputs": [],
   "source": [
    "#Multiprocess"
   ]
  },
  {
   "cell_type": "code",
   "execution_count": 2,
   "id": "0b7d3331",
   "metadata": {},
   "outputs": [],
   "source": [
    "from multiprocessing import Process\n",
    "import os\n",
    "import time"
   ]
  },
  {
   "cell_type": "code",
   "execution_count": 3,
   "id": "6d71a885",
   "metadata": {},
   "outputs": [],
   "source": [
    "def square_numbers(n):\n",
    "    for i in range(n):\n",
    "        i*i\n",
    "        time.sleep(0.1)"
   ]
  },
  {
   "cell_type": "code",
   "execution_count": 4,
   "id": "407a3f3b",
   "metadata": {},
   "outputs": [
    {
     "name": "stdout",
     "output_type": "stream",
     "text": [
      "8\n"
     ]
    }
   ],
   "source": [
    "processes = []\n",
    "num_processes = os.cpu_count()\n",
    "print(num_processes)"
   ]
  },
  {
   "cell_type": "code",
   "execution_count": 5,
   "id": "72dc610b",
   "metadata": {},
   "outputs": [],
   "source": [
    "for i in range(num_processes):\n",
    "    p = Process(target=square_numbers, args = (1000,))\n",
    "    processes.append(p)"
   ]
  },
  {
   "cell_type": "code",
   "execution_count": 6,
   "id": "b1df53ad",
   "metadata": {},
   "outputs": [
    {
     "name": "stdout",
     "output_type": "stream",
     "text": [
      "end main\n"
     ]
    }
   ],
   "source": [
    "#start\n",
    "for p in processes:\n",
    "    p.start()\n",
    "    \n",
    "for p in processes:\n",
    "    p.join()\n",
    "    \n",
    "print(\"end main\")"
   ]
  },
  {
   "cell_type": "code",
   "execution_count": 7,
   "id": "1cd2c5f8",
   "metadata": {},
   "outputs": [],
   "source": [
    "#MultiThreads"
   ]
  },
  {
   "cell_type": "code",
   "execution_count": 8,
   "id": "ba048c61",
   "metadata": {},
   "outputs": [],
   "source": [
    "from threading import Thread\n",
    "import os\n",
    "import time"
   ]
  },
  {
   "cell_type": "code",
   "execution_count": 9,
   "id": "7e5fb932",
   "metadata": {},
   "outputs": [],
   "source": [
    "threads = []\n",
    "num_threads = 10"
   ]
  },
  {
   "cell_type": "code",
   "execution_count": 10,
   "id": "4edcc3de",
   "metadata": {},
   "outputs": [],
   "source": [
    "for i in range(num_threads):\n",
    "    p = Thread(target=square_numbers, args = (10,))\n",
    "    threads.append(p)"
   ]
  },
  {
   "cell_type": "code",
   "execution_count": 11,
   "id": "8f4a904f",
   "metadata": {},
   "outputs": [
    {
     "name": "stdout",
     "output_type": "stream",
     "text": [
      "end main\n"
     ]
    }
   ],
   "source": [
    "#start\n",
    "for t in threads:\n",
    "    t.start()\n",
    "    \n",
    "for t in threads:\n",
    "    t.join()\n",
    "    \n",
    "print(\"end main\")"
   ]
  },
  {
   "cell_type": "code",
   "execution_count": null,
   "id": "e070adbe",
   "metadata": {},
   "outputs": [],
   "source": []
  }
 ],
 "metadata": {
  "kernelspec": {
   "display_name": "Python 3 (ipykernel)",
   "language": "python",
   "name": "python3"
  },
  "language_info": {
   "codemirror_mode": {
    "name": "ipython",
    "version": 3
   },
   "file_extension": ".py",
   "mimetype": "text/x-python",
   "name": "python",
   "nbconvert_exporter": "python",
   "pygments_lexer": "ipython3",
   "version": "3.9.12"
  }
 },
 "nbformat": 4,
 "nbformat_minor": 5
}
