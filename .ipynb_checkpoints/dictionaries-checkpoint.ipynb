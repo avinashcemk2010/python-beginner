{
 "cells": [
  {
   "cell_type": "code",
   "execution_count": 1,
   "id": "d6af7e59",
   "metadata": {},
   "outputs": [
    {
     "data": {
      "text/plain": [
       "'Roger'"
      ]
     },
     "execution_count": 1,
     "metadata": {},
     "output_type": "execute_result"
    }
   ],
   "source": [
    "dog = {\"name\":\"Roger\", \"age\":8}\n",
    "dog['name']"
   ]
  },
  {
   "cell_type": "code",
   "execution_count": 2,
   "id": "90fd9edc",
   "metadata": {},
   "outputs": [
    {
     "data": {
      "text/plain": [
       "{'name': 'Sid', 'age': 8}"
      ]
     },
     "execution_count": 2,
     "metadata": {},
     "output_type": "execute_result"
    }
   ],
   "source": [
    "dog['name'] = \"Sid\"\n",
    "dog"
   ]
  },
  {
   "cell_type": "code",
   "execution_count": 3,
   "id": "4e4137b8",
   "metadata": {},
   "outputs": [
    {
     "data": {
      "text/plain": [
       "'Sid'"
      ]
     },
     "execution_count": 3,
     "metadata": {},
     "output_type": "execute_result"
    }
   ],
   "source": [
    "dog.get(\"name\")"
   ]
  },
  {
   "cell_type": "code",
   "execution_count": 4,
   "id": "df2ef656",
   "metadata": {},
   "outputs": [
    {
     "name": "stdout",
     "output_type": "stream",
     "text": [
      "None\n"
     ]
    }
   ],
   "source": [
    "print(dog.get(\"Color\"))"
   ]
  },
  {
   "cell_type": "code",
   "execution_count": 5,
   "id": "553ef0ff",
   "metadata": {},
   "outputs": [
    {
     "name": "stdout",
     "output_type": "stream",
     "text": [
      "brown\n"
     ]
    }
   ],
   "source": [
    "print(dog.get(\"Color\", \"brown\"))"
   ]
  },
  {
   "cell_type": "code",
   "execution_count": 6,
   "id": "5b910e64",
   "metadata": {},
   "outputs": [
    {
     "data": {
      "text/plain": [
       "'Sid'"
      ]
     },
     "execution_count": 6,
     "metadata": {},
     "output_type": "execute_result"
    }
   ],
   "source": [
    "dog.pop(\"name\")"
   ]
  },
  {
   "cell_type": "code",
   "execution_count": 7,
   "id": "9fd64594",
   "metadata": {},
   "outputs": [
    {
     "data": {
      "text/plain": [
       "{'age': 8}"
      ]
     },
     "execution_count": 7,
     "metadata": {},
     "output_type": "execute_result"
    }
   ],
   "source": [
    "dog"
   ]
  },
  {
   "cell_type": "code",
   "execution_count": 8,
   "id": "0330e1fb",
   "metadata": {},
   "outputs": [
    {
     "data": {
      "text/plain": [
       "{'age': 8, 'name': 'Bharat'}"
      ]
     },
     "execution_count": 8,
     "metadata": {},
     "output_type": "execute_result"
    }
   ],
   "source": [
    "dog[\"name\"] = \"Bharat\"\n",
    "dog"
   ]
  },
  {
   "cell_type": "code",
   "execution_count": 9,
   "id": "705a8d8d",
   "metadata": {},
   "outputs": [
    {
     "data": {
      "text/plain": [
       "False"
      ]
     },
     "execution_count": 9,
     "metadata": {},
     "output_type": "execute_result"
    }
   ],
   "source": [
    "\"Color\" in dog"
   ]
  },
  {
   "cell_type": "code",
   "execution_count": 10,
   "id": "6f2d11e8",
   "metadata": {},
   "outputs": [
    {
     "data": {
      "text/plain": [
       "dict_keys(['age', 'name'])"
      ]
     },
     "execution_count": 10,
     "metadata": {},
     "output_type": "execute_result"
    }
   ],
   "source": [
    "dog.keys()"
   ]
  },
  {
   "cell_type": "code",
   "execution_count": 11,
   "id": "7f228a5c",
   "metadata": {},
   "outputs": [
    {
     "data": {
      "text/plain": [
       "['age', 'name']"
      ]
     },
     "execution_count": 11,
     "metadata": {},
     "output_type": "execute_result"
    }
   ],
   "source": [
    "list(dog.keys())"
   ]
  },
  {
   "cell_type": "code",
   "execution_count": 12,
   "id": "db6e2749",
   "metadata": {},
   "outputs": [
    {
     "data": {
      "text/plain": [
       "dict_values([8, 'Bharat'])"
      ]
     },
     "execution_count": 12,
     "metadata": {},
     "output_type": "execute_result"
    }
   ],
   "source": [
    "dog.values()"
   ]
  },
  {
   "cell_type": "code",
   "execution_count": 13,
   "id": "184352fd",
   "metadata": {},
   "outputs": [
    {
     "data": {
      "text/plain": [
       "[8, 'Bharat']"
      ]
     },
     "execution_count": 13,
     "metadata": {},
     "output_type": "execute_result"
    }
   ],
   "source": [
    "list(dog.values())"
   ]
  },
  {
   "cell_type": "code",
   "execution_count": 14,
   "id": "edad33c4",
   "metadata": {},
   "outputs": [
    {
     "data": {
      "text/plain": [
       "[('age', 8), ('name', 'Bharat')]"
      ]
     },
     "execution_count": 14,
     "metadata": {},
     "output_type": "execute_result"
    }
   ],
   "source": [
    "list(dog.items())"
   ]
  },
  {
   "cell_type": "code",
   "execution_count": 15,
   "id": "12197596",
   "metadata": {},
   "outputs": [
    {
     "data": {
      "text/plain": [
       "2"
      ]
     },
     "execution_count": 15,
     "metadata": {},
     "output_type": "execute_result"
    }
   ],
   "source": [
    "len(dog)"
   ]
  },
  {
   "cell_type": "code",
   "execution_count": 16,
   "id": "4f23a921",
   "metadata": {},
   "outputs": [
    {
     "data": {
      "text/plain": [
       "{'name': 'Bharat'}"
      ]
     },
     "execution_count": 16,
     "metadata": {},
     "output_type": "execute_result"
    }
   ],
   "source": [
    "del dog[\"age\"]\n",
    "dog"
   ]
  },
  {
   "cell_type": "code",
   "execution_count": 17,
   "id": "4a0e1a0e",
   "metadata": {},
   "outputs": [
    {
     "data": {
      "text/plain": [
       "{'name': 'Bharat'}"
      ]
     },
     "execution_count": 17,
     "metadata": {},
     "output_type": "execute_result"
    }
   ],
   "source": [
    "dogCopy = dog.copy()\n",
    "dogCopy"
   ]
  },
  {
   "cell_type": "code",
   "execution_count": 18,
   "id": "e0bbb621",
   "metadata": {},
   "outputs": [
    {
     "name": "stdout",
     "output_type": "stream",
     "text": [
      "('lastname', 'lastvalue')\n",
      "{'name': 'Bharat', 'anothername': 'Lalit'}\n"
     ]
    }
   ],
   "source": [
    "dogCopy['anothername'] = \"Lalit\"\n",
    "dogCopy['lastname'] = \"lastvalue\"\n",
    "lastitem = dogCopy.popitem()\n",
    "print(lastitem)\n",
    "print(dogCopy)"
   ]
  },
  {
   "cell_type": "code",
   "execution_count": 19,
   "id": "b42006cd",
   "metadata": {},
   "outputs": [
    {
     "name": "stdout",
     "output_type": "stream",
     "text": [
      "name Bharat\n",
      "anothername Lalit\n"
     ]
    }
   ],
   "source": [
    "for key, value in dogCopy.items():\n",
    "    print(key, value)"
   ]
  },
  {
   "cell_type": "code",
   "execution_count": 21,
   "id": "7aaa9ae9",
   "metadata": {},
   "outputs": [
    {
     "data": {
      "text/plain": [
       "{'name': 'Mary', 'age': 27, 'email': 'max@xyz.com', 'city': 'Boston'}"
      ]
     },
     "execution_count": 21,
     "metadata": {},
     "output_type": "execute_result"
    }
   ],
   "source": [
    "my_dict = {\"name\": \"Max\", \"age\": 28, \"email\": \"max@xyz.com\"}\n",
    "my_dict2 = dict(name=\"Mary\", age=27, city=\"Boston\")\n",
    "\n",
    "my_dict.update(my_dict2)\n",
    "my_dict"
   ]
  },
  {
   "cell_type": "code",
   "execution_count": null,
   "id": "c780d2fe",
   "metadata": {},
   "outputs": [],
   "source": []
  }
 ],
 "metadata": {
  "kernelspec": {
   "display_name": "Python 3 (ipykernel)",
   "language": "python",
   "name": "python3"
  },
  "language_info": {
   "codemirror_mode": {
    "name": "ipython",
    "version": 3
   },
   "file_extension": ".py",
   "mimetype": "text/x-python",
   "name": "python",
   "nbconvert_exporter": "python",
   "pygments_lexer": "ipython3",
   "version": "3.9.12"
  }
 },
 "nbformat": 4,
 "nbformat_minor": 5
}
