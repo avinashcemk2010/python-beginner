{
 "cells": [
  {
   "cell_type": "code",
   "execution_count": 3,
   "id": "446d61fd",
   "metadata": {},
   "outputs": [
    {
     "name": "stdout",
     "output_type": "stream",
     "text": [
      "Help on class Dog in module __main__:\n",
      "\n",
      "class Dog(builtins.object)\n",
      " |  Dog(name, age)\n",
      " |  \n",
      " |  A class representing a dog\n",
      " |  \n",
      " |  Methods defined here:\n",
      " |  \n",
      " |  __init__(self, name, age)\n",
      " |      Initialize self.  See help(type(self)) for accurate signature.\n",
      " |  \n",
      " |  bark(self)\n",
      " |      Let the dog bark\n",
      " |  \n",
      " |  ----------------------------------------------------------------------\n",
      " |  Data descriptors defined here:\n",
      " |  \n",
      " |  __dict__\n",
      " |      dictionary for instance variables (if defined)\n",
      " |  \n",
      " |  __weakref__\n",
      " |      list of weak references to the object (if defined)\n",
      "\n",
      "None\n"
     ]
    }
   ],
   "source": [
    "\"\"\"\n",
    "Dog module\n",
    "This module does bla bla bla\n",
    "\"\"\"\n",
    "\n",
    "class Dog:\n",
    "    \n",
    "    \"\"\"A class representing a dog\"\"\"\n",
    "    def __init__(self, name, age):\n",
    "        self.name = name\n",
    "        self.age = age\n",
    "    \n",
    "    def bark(self):\n",
    "        \"\"\"Let the dog bark\"\"\"\n",
    "        print(\"woof!\")\n",
    "        \n",
    "print(help(Dog))"
   ]
  },
  {
   "cell_type": "code",
   "execution_count": null,
   "id": "90ae6999",
   "metadata": {},
   "outputs": [],
   "source": []
  }
 ],
 "metadata": {
  "kernelspec": {
   "display_name": "Python 3 (ipykernel)",
   "language": "python",
   "name": "python3"
  },
  "language_info": {
   "codemirror_mode": {
    "name": "ipython",
    "version": 3
   },
   "file_extension": ".py",
   "mimetype": "text/x-python",
   "name": "python",
   "nbconvert_exporter": "python",
   "pygments_lexer": "ipython3",
   "version": "3.9.12"
  }
 },
 "nbformat": 4,
 "nbformat_minor": 5
}
