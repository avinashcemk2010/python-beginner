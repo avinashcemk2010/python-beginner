{
 "cells": [
  {
   "cell_type": "code",
   "execution_count": 21,
   "id": "65ab85dc",
   "metadata": {},
   "outputs": [
    {
     "data": {
      "text/plain": [
       "[['spades'], ['6']]"
      ]
     },
     "execution_count": 21,
     "metadata": {},
     "output_type": "execute_result"
    }
   ],
   "source": [
    "import random\n",
    "\n",
    "cards = []\n",
    "suits = [\"spades\", \"clubs\", \"hearts\", \"diamonds\"]\n",
    "ranks = [\"A\", \"2\", \"3\", \"4\", \"5\", \"6\", \"7\", \"8\", \"9\", \"10\", \"J\", \"K\", \"Q\"]\n",
    "\n",
    "for suit in suits:\n",
    "    for rank in ranks:\n",
    "        cards.append([[suit],[rank]])\n",
    "        \n",
    "def shuffle():\n",
    "    random.shuffle(cards)\n",
    " \n",
    "shuffle()\n",
    "\n",
    "def deal():\n",
    "    card = cards.pop()\n",
    "    return card\n",
    "\n",
    "card"
   ]
  },
  {
   "cell_type": "code",
   "execution_count": null,
   "id": "5fbce65f",
   "metadata": {},
   "outputs": [],
   "source": []
  }
 ],
 "metadata": {
  "kernelspec": {
   "display_name": "Python 3 (ipykernel)",
   "language": "python",
   "name": "python3"
  },
  "language_info": {
   "codemirror_mode": {
    "name": "ipython",
    "version": 3
   },
   "file_extension": ".py",
   "mimetype": "text/x-python",
   "name": "python",
   "nbconvert_exporter": "python",
   "pygments_lexer": "ipython3",
   "version": "3.9.12"
  }
 },
 "nbformat": 4,
 "nbformat_minor": 5
}
