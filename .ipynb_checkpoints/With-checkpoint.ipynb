{
 "cells": [
  {
   "cell_type": "code",
   "execution_count": null,
   "id": "e6d67107",
   "metadata": {},
   "outputs": [],
   "source": [
    "filename = \"/users/flavio/test.txt\"\n",
    "\n",
    "try:\n",
    "    file = open(filename, r)\n",
    "    content = file.read()\n",
    "    print(content)\n",
    "finally:\n",
    "    file.close()"
   ]
  },
  {
   "cell_type": "code",
   "execution_count": null,
   "id": "7e9d22f4",
   "metadata": {},
   "outputs": [],
   "source": [
    "filename = \"/users/flavio/test.txt\"\n",
    "\n",
    "#It will automaticall close the file\n",
    "with open(filename, r) as file:\n",
    "    content = file.read()\n",
    "    print(content)"
   ]
  }
 ],
 "metadata": {
  "kernelspec": {
   "display_name": "Python 3 (ipykernel)",
   "language": "python",
   "name": "python3"
  },
  "language_info": {
   "codemirror_mode": {
    "name": "ipython",
    "version": 3
   },
   "file_extension": ".py",
   "mimetype": "text/x-python",
   "name": "python",
   "nbconvert_exporter": "python",
   "pygments_lexer": "ipython3",
   "version": "3.9.12"
  }
 },
 "nbformat": 4,
 "nbformat_minor": 5
}
