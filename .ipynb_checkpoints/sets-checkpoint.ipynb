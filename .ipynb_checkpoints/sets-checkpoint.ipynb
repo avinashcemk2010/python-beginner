{
 "cells": [
  {
   "cell_type": "code",
   "execution_count": 1,
   "id": "29dbd9e1",
   "metadata": {},
   "outputs": [
    {
     "data": {
      "text/plain": [
       "set"
      ]
     },
     "execution_count": 1,
     "metadata": {},
     "output_type": "execute_result"
    }
   ],
   "source": [
    "names = {\"Roger\", \"Syd\"}\n",
    "type(names)"
   ]
  },
  {
   "cell_type": "code",
   "execution_count": 6,
   "id": "c42b26fa",
   "metadata": {},
   "outputs": [
    {
     "name": "stdout",
     "output_type": "stream",
     "text": [
      "{'Stuart'}\n"
     ]
    }
   ],
   "source": [
    "set1 = {\"Stuart\", \"Binny\"}\n",
    "set2 = {\"Roger\", \"Eastward\", \"Stuart\"}\n",
    "intersect = set1 & set2\n",
    "print(intersect)"
   ]
  },
  {
   "cell_type": "code",
   "execution_count": 7,
   "id": "b9426656",
   "metadata": {},
   "outputs": [
    {
     "data": {
      "text/plain": [
       "{'Binny', 'Eastward', 'Roger', 'Stuart'}"
      ]
     },
     "execution_count": 7,
     "metadata": {},
     "output_type": "execute_result"
    }
   ],
   "source": [
    "mod = set1 | set2\n",
    "mod"
   ]
  },
  {
   "cell_type": "code",
   "execution_count": 8,
   "id": "39996c5f",
   "metadata": {},
   "outputs": [
    {
     "data": {
      "text/plain": [
       "{'Binny'}"
      ]
     },
     "execution_count": 8,
     "metadata": {},
     "output_type": "execute_result"
    }
   ],
   "source": [
    "set1 - set2"
   ]
  },
  {
   "cell_type": "code",
   "execution_count": 9,
   "id": "6856d3fc",
   "metadata": {},
   "outputs": [
    {
     "data": {
      "text/plain": [
       "2"
      ]
     },
     "execution_count": 9,
     "metadata": {},
     "output_type": "execute_result"
    }
   ],
   "source": [
    "len(set1)"
   ]
  },
  {
   "cell_type": "code",
   "execution_count": 10,
   "id": "df44eec7",
   "metadata": {},
   "outputs": [
    {
     "data": {
      "text/plain": [
       "['Stuart', 'Binny']"
      ]
     },
     "execution_count": 10,
     "metadata": {},
     "output_type": "execute_result"
    }
   ],
   "source": [
    "list(set1)"
   ]
  },
  {
   "cell_type": "code",
   "execution_count": null,
   "id": "dd6389fa",
   "metadata": {},
   "outputs": [],
   "source": []
  }
 ],
 "metadata": {
  "kernelspec": {
   "display_name": "Python 3 (ipykernel)",
   "language": "python",
   "name": "python3"
  },
  "language_info": {
   "codemirror_mode": {
    "name": "ipython",
    "version": 3
   },
   "file_extension": ".py",
   "mimetype": "text/x-python",
   "name": "python",
   "nbconvert_exporter": "python",
   "pygments_lexer": "ipython3",
   "version": "3.9.12"
  }
 },
 "nbformat": 4,
 "nbformat_minor": 5
}
