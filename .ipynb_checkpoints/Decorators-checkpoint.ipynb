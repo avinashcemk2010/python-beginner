{
 "cells": [
  {
   "cell_type": "markdown",
   "id": "5651a4a0",
   "metadata": {},
   "source": [
    "https://pythongeeks.org/python-decorators/#:~:text=Decorators%20in%20Python%201%20Creating%20a%20Decorator%20in,Python%20...%205%20Multiple%20Decorators%20in%20Python%20"
   ]
  },
  {
   "cell_type": "markdown",
   "id": "22ec2422",
   "metadata": {},
   "source": [
    "https://towardsdatascience.com/closures-and-decorators-in-python-2551abbc6eb6#:~:text=Closures%20are%20an%20important%20tool%20in%20functional%20programming%2C,behavior%20of%20a%20function%20without%20permanently%20modifying%20it."
   ]
  },
  {
   "cell_type": "code",
   "execution_count": 5,
   "id": "dcb6ec33",
   "metadata": {},
   "outputs": [
    {
     "name": "stdout",
     "output_type": "stream",
     "text": [
      "before\n",
      "hello\n",
      "after\n"
     ]
    }
   ],
   "source": [
    "def logtime(func):\n",
    "    def wrapper():\n",
    "        print(\"before\")\n",
    "        val = func()\n",
    "        print(\"after\")\n",
    "    return wrapper\n",
    "\n",
    "@logtime #decorator symbol would do the same thing as logtime_call = logtime(hello)\n",
    "def hello():\n",
    "    print(\"hello\")\n",
    "  \n",
    "hello()\n"
   ]
  },
  {
   "cell_type": "code",
   "execution_count": 9,
   "id": "b033fcbb",
   "metadata": {},
   "outputs": [
    {
     "name": "stdout",
     "output_type": "stream",
     "text": [
      "before\n",
      "after\n",
      "15\n",
      "Help on function hello in module __main__:\n",
      "\n",
      "hello(x)\n",
      "\n",
      "None\n",
      "hello\n"
     ]
    }
   ],
   "source": [
    "import functools\n",
    "\n",
    "def logtime(func):\n",
    "    \n",
    "    @functools.wraps(func)\n",
    "    def wrapper(*args, **kwargs):\n",
    "        print(\"before\")\n",
    "        result = func(args[0])\n",
    "        print(\"after\")\n",
    "        return result\n",
    "    return wrapper\n",
    "\n",
    "@logtime #decorator symbol would do the same thing as logtime_call = logtime(hello)\n",
    "def hello(x):\n",
    "    return x+5\n",
    "  \n",
    "val = hello(10)\n",
    "print(val)\n",
    "\n",
    "print(help(hello))\n",
    "print(hello.__name__)"
   ]
  },
  {
   "cell_type": "code",
   "execution_count": 4,
   "id": "27799a14",
   "metadata": {},
   "outputs": [
    {
     "name": "stdout",
     "output_type": "stream",
     "text": [
      "hello avinash\n",
      "hello avinash\n",
      "hello avinash\n"
     ]
    }
   ],
   "source": [
    "def repeat(num_times):\n",
    "    def decorater_repeat(func):\n",
    "        def wrapper(*args, **kwargs):\n",
    "            for _ in range(num_times):\n",
    "                result = func(*args, **kwargs)\n",
    "            return result\n",
    "        return wrapper\n",
    "    return decorater_repeat\n",
    "\n",
    "@repeat(num_times=3)\n",
    "def greet(name):\n",
    "    print(f\"hello {name}\")\n",
    "\n",
    "greet(\"avinash\")"
   ]
  },
  {
   "cell_type": "code",
   "execution_count": 5,
   "id": "d555fdea",
   "metadata": {},
   "outputs": [],
   "source": [
    "#Class Decorator"
   ]
  },
  {
   "cell_type": "code",
   "execution_count": 7,
   "id": "266edd1c",
   "metadata": {},
   "outputs": [
    {
     "name": "stdout",
     "output_type": "stream",
     "text": [
      "This function is executed 1 times\n",
      "hello\n",
      "This function is executed 2 times\n",
      "hello\n"
     ]
    }
   ],
   "source": [
    "class Countcalls:\n",
    "    \n",
    "    def __init__(self, func):\n",
    "        self.func = func\n",
    "        self.num_calls = 0\n",
    "        \n",
    "    def __call__(self, *args, **kwargs):\n",
    "        self.num_calls += 1\n",
    "        print(f\"This function is executed {self.num_calls} times\")\n",
    "        return self.func(*args, **kwargs)\n",
    "\n",
    "@Countcalls\n",
    "def say_hello():\n",
    "    print(\"hello\")\n",
    "    \n",
    "say_hello()\n",
    "say_hello()"
   ]
  },
  {
   "cell_type": "code",
   "execution_count": null,
   "id": "685ae119",
   "metadata": {},
   "outputs": [],
   "source": []
  }
 ],
 "metadata": {
  "kernelspec": {
   "display_name": "Python 3 (ipykernel)",
   "language": "python",
   "name": "python3"
  },
  "language_info": {
   "codemirror_mode": {
    "name": "ipython",
    "version": 3
   },
   "file_extension": ".py",
   "mimetype": "text/x-python",
   "name": "python",
   "nbconvert_exporter": "python",
   "pygments_lexer": "ipython3",
   "version": "3.9.12"
  }
 },
 "nbformat": 4,
 "nbformat_minor": 5
}
