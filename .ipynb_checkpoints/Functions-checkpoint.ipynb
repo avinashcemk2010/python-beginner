{
 "cells": [
  {
   "cell_type": "code",
   "execution_count": 1,
   "id": "c689490c",
   "metadata": {},
   "outputs": [
    {
     "name": "stdout",
     "output_type": "stream",
     "text": [
      "I\n",
      "am\n",
      "going\n"
     ]
    }
   ],
   "source": [
    "def talk(phrase):\n",
    "    def say(word):\n",
    "        print(word)\n",
    "        \n",
    "    words = phrase.split(' ')\n",
    "    for word in words:\n",
    "        say(word)\n",
    "        \n",
    "talk('I am going')"
   ]
  },
  {
   "cell_type": "code",
   "execution_count": 3,
   "id": "00d4eb83",
   "metadata": {},
   "outputs": [
    {
     "name": "stdout",
     "output_type": "stream",
     "text": [
      "1\n"
     ]
    }
   ],
   "source": [
    "def count():\n",
    "    count = 0\n",
    "    \n",
    "    def increment():\n",
    "        nonlocal count #nonlocal helps to access outer variable\n",
    "        count += 1\n",
    "        print(count)\n",
    "        \n",
    "    increment()\n",
    "    \n",
    "count()"
   ]
  },
  {
   "cell_type": "markdown",
   "id": "720bdbb8",
   "metadata": {},
   "source": [
    "# Closure\n",
    "\n",
    "A Closure is a function object that remembers values in enclosing scopes even if they are not present in memory.  \n",
    "\n",
    "It is a record that stores a function together with an environment: a mapping associating each free variable of the function (variables that are used locally but defined in an enclosing scope) with the value or reference to which the name was bound when the closure was created.\n",
    "\n",
    "A closure—unlike a plain function—allows the function to access those captured variables through the closure’s copies of their values or references, even when the function is invoked outside their scope."
   ]
  },
  {
   "cell_type": "code",
   "execution_count": 7,
   "id": "2833d134",
   "metadata": {},
   "outputs": [
    {
     "name": "stdout",
     "output_type": "stream",
     "text": [
      "1\n",
      "2\n",
      "3\n"
     ]
    }
   ],
   "source": [
    "def counter():\n",
    "    count = 0\n",
    "    \n",
    "    def increment():\n",
    "        nonlocal count #nonlocal helps to access outer variable\n",
    "        count += 1\n",
    "        return count\n",
    "        \n",
    "    return increment\n",
    "    \n",
    "increment = counter()\n",
    "print(increment())\n",
    "print(increment())\n",
    "print(increment())"
   ]
  },
  {
   "cell_type": "code",
   "execution_count": 11,
   "id": "ed0bf655",
   "metadata": {},
   "outputs": [
    {
     "name": "stdout",
     "output_type": "stream",
     "text": [
      "Hey!\n"
     ]
    }
   ],
   "source": [
    "# Python program to illustrate closures\n",
    "def outerFunction(text):\n",
    "\n",
    "    def innerFunction():\n",
    "        print(text)\n",
    "\n",
    "    # Note we are returning function WITHOUT parenthesis\n",
    "    return innerFunction\n",
    "\n",
    "myFunction = outerFunction('Hey!')\n",
    "myFunction()\n"
   ]
  },
  {
   "cell_type": "code",
   "execution_count": null,
   "id": "cd1b942d",
   "metadata": {},
   "outputs": [],
   "source": [
    "As observed from the above code, closures help to invoke functions outside their scope.\n",
    "The function innerFunction has its scope only inside the outerFunction. \n",
    "But with the use of closures, we can easily extend its scope to invoke a function outside its scope."
   ]
  },
  {
   "cell_type": "code",
   "execution_count": null,
   "id": "3eb02cbc",
   "metadata": {},
   "outputs": [],
   "source": [
    "Everything is an object in python"
   ]
  }
 ],
 "metadata": {
  "kernelspec": {
   "display_name": "Python 3 (ipykernel)",
   "language": "python",
   "name": "python3"
  },
  "language_info": {
   "codemirror_mode": {
    "name": "ipython",
    "version": 3
   },
   "file_extension": ".py",
   "mimetype": "text/x-python",
   "name": "python",
   "nbconvert_exporter": "python",
   "pygments_lexer": "ipython3",
   "version": "3.9.12"
  }
 },
 "nbformat": 4,
 "nbformat_minor": 5
}
