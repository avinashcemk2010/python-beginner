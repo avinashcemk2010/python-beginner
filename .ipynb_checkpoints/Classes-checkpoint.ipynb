{
 "cells": [
  {
   "cell_type": "code",
   "execution_count": 6,
   "id": "55992ce5",
   "metadata": {},
   "outputs": [
    {
     "name": "stdout",
     "output_type": "stream",
     "text": [
      "Woof!\n",
      "<class '__main__.Dog'>\n",
      "Roger\n",
      "25\n"
     ]
    }
   ],
   "source": [
    "class Dog:\n",
    "    def __init__(self, name, age):\n",
    "        self.name = name\n",
    "        self.age = age\n",
    "    \n",
    "    def bark(self):\n",
    "        print(\"Woof!\")\n",
    "        \n",
    "roger = Dog(\"Roger\", 25)\n",
    "roger.bark()\n",
    "\n",
    "print(type(roger))\n",
    "print(roger.name)\n",
    "print(roger.age)"
   ]
  },
  {
   "cell_type": "markdown",
   "id": "07201dc3",
   "metadata": {},
   "source": [
    "# Inheritance"
   ]
  },
  {
   "cell_type": "code",
   "execution_count": 9,
   "id": "bea7f47f",
   "metadata": {},
   "outputs": [
    {
     "name": "stdout",
     "output_type": "stream",
     "text": [
      "Woof!\n",
      "walking...\n"
     ]
    },
    {
     "data": {
      "text/plain": [
       "__main__.Dog"
      ]
     },
     "execution_count": 9,
     "metadata": {},
     "output_type": "execute_result"
    }
   ],
   "source": [
    "class Animal:\n",
    "    def walk(self):\n",
    "        print(\"walking...\")\n",
    "\n",
    "class Dog(Animal):\n",
    "    def __init__(self, name, age):\n",
    "        self.name = name\n",
    "        self.age = age\n",
    "    \n",
    "    def bark(self):\n",
    "        print(\"Woof!\")\n",
    "        \n",
    "roger = Dog(\"Roger\", 25)\n",
    "roger.bark()\n",
    "roger.walk()\n",
    "\n",
    "type(roger)"
   ]
  },
  {
   "cell_type": "code",
   "execution_count": 11,
   "id": "825b90c0",
   "metadata": {},
   "outputs": [
    {
     "name": "stdout",
     "output_type": "stream",
     "text": [
      "['C:\\\\Users\\\\avina\\\\anaconda3\\\\lib\\\\site-packages\\\\ipykernel_launcher.py', '-f', 'C:\\\\Users\\\\avina\\\\AppData\\\\Roaming\\\\jupyter\\\\runtime\\\\kernel-c561b160-caf7-4b53-b5e7-8f26fa3c8794.json']\n",
      "C:\\Users\\avina\\anaconda3\\lib\\site-packages\\ipykernel_launcher.py\n"
     ]
    }
   ],
   "source": [
    "import sys\n",
    "arg1 = sys.argv[0]\n",
    "print(sys.argv)#It will print all the arguments passed from command line\n",
    "print(arg1)"
   ]
  },
  {
   "cell_type": "code",
   "execution_count": null,
   "id": "dcdd7e4f",
   "metadata": {},
   "outputs": [],
   "source": [
    "#argparse : It can be used to further enhance the way we accept the argument from command line"
   ]
  }
 ],
 "metadata": {
  "kernelspec": {
   "display_name": "Python 3 (ipykernel)",
   "language": "python",
   "name": "python3"
  },
  "language_info": {
   "codemirror_mode": {
    "name": "ipython",
    "version": 3
   },
   "file_extension": ".py",
   "mimetype": "text/x-python",
   "name": "python",
   "nbconvert_exporter": "python",
   "pygments_lexer": "ipython3",
   "version": "3.9.12"
  }
 },
 "nbformat": 4,
 "nbformat_minor": 5
}
