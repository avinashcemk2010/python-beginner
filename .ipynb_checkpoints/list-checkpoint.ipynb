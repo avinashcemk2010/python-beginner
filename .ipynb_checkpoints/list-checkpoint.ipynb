{
 "cells": [
  {
   "cell_type": "code",
   "execution_count": 4,
   "id": "d3403fea",
   "metadata": {},
   "outputs": [
    {
     "name": "stdout",
     "output_type": "stream",
     "text": [
      "<class 'str'>\n",
      "True\n",
      "True\n"
     ]
    }
   ],
   "source": [
    "name = \"avinash\"\n",
    "print(type(name))\n",
    "print(type(name) == str)\n",
    "print(isinstance(name, str))"
   ]
  },
  {
   "cell_type": "code",
   "execution_count": 5,
   "id": "4d3cda10",
   "metadata": {},
   "outputs": [
    {
     "name": "stdout",
     "output_type": "stream",
     "text": [
      "True\n"
     ]
    }
   ],
   "source": [
    "age = 2\n",
    "print(isinstance(age, int))"
   ]
  },
  {
   "cell_type": "code",
   "execution_count": 6,
   "id": "8079c86b",
   "metadata": {},
   "outputs": [
    {
     "name": "stdout",
     "output_type": "stream",
     "text": [
      "True\n"
     ]
    }
   ],
   "source": [
    "age = float(2)\n",
    "print(isinstance(age, float))"
   ]
  },
  {
   "cell_type": "code",
   "execution_count": 7,
   "id": "d70cfa8c",
   "metadata": {},
   "outputs": [
    {
     "name": "stdout",
     "output_type": "stream",
     "text": [
      "True\n"
     ]
    }
   ],
   "source": [
    "age = int(\"20\")\n",
    "print(isinstance(age, int))"
   ]
  },
  {
   "cell_type": "code",
   "execution_count": 11,
   "id": "f92d7dab",
   "metadata": {},
   "outputs": [
    {
     "name": "stdout",
     "output_type": "stream",
     "text": [
      "64\n",
      "2\n",
      "1\n"
     ]
    }
   ],
   "source": [
    "print(4**3)\n",
    "print(5//2)\n",
    "print(5%2)"
   ]
  },
  {
   "cell_type": "code",
   "execution_count": 12,
   "id": "89f4d170",
   "metadata": {},
   "outputs": [
    {
     "name": "stdout",
     "output_type": "stream",
     "text": [
      "44\n"
     ]
    }
   ],
   "source": [
    "age = 10\n",
    "age += 34\n",
    "print(age)"
   ]
  },
  {
   "cell_type": "code",
   "execution_count": 13,
   "id": "a34bc895",
   "metadata": {},
   "outputs": [
    {
     "name": "stdout",
     "output_type": "stream",
     "text": [
      "False\n",
      "False\n",
      "True\n"
     ]
    }
   ],
   "source": [
    "condition1 = True\n",
    "condition2 = False\n",
    "print(not condition1)\n",
    "print(condition1 and condition2)\n",
    "print(condition1 or condition2)"
   ]
  },
  {
   "cell_type": "code",
   "execution_count": 15,
   "id": "785643f0",
   "metadata": {},
   "outputs": [
    {
     "data": {
      "text/plain": [
       "False"
      ]
     },
     "execution_count": 15,
     "metadata": {},
     "output_type": "execute_result"
    }
   ],
   "source": [
    "def is_adult(age):\n",
    "    return True if age > 18 else False\n",
    "\n",
    "result = is_adult(10)\n",
    "result"
   ]
  },
  {
   "cell_type": "code",
   "execution_count": 19,
   "id": "562aa0fe",
   "metadata": {},
   "outputs": [
    {
     "name": "stdout",
     "output_type": "stream",
     "text": [
      "True\n",
      "False\n"
     ]
    }
   ],
   "source": [
    "var1 = True\n",
    "var2 = False\n",
    "print(any([var1, var2]))\n",
    "print(all([var1, var2]))"
   ]
  },
  {
   "cell_type": "code",
   "execution_count": 21,
   "id": "38dfa7db",
   "metadata": {},
   "outputs": [
    {
     "name": "stdout",
     "output_type": "stream",
     "text": [
      "5.6\n",
      "-6\n"
     ]
    }
   ],
   "source": [
    "print(abs(-5.6))\n",
    "print(round(-5.6))"
   ]
  },
  {
   "cell_type": "code",
   "execution_count": 24,
   "id": "ac38ca7e",
   "metadata": {},
   "outputs": [
    {
     "name": "stdout",
     "output_type": "stream",
     "text": [
      "State.ACTIVE\n",
      "1\n",
      "[<State.INACTIVE: 0>, <State.ACTIVE: 1>]\n",
      "2\n"
     ]
    }
   ],
   "source": [
    "from enum import Enum\n",
    "\n",
    "class State(Enum):\n",
    "    INACTIVE = 0\n",
    "    ACTIVE = 1\n",
    "    \n",
    "print(State.ACTIVE)\n",
    "print(State.ACTIVE.value)\n",
    "print(list(State))\n",
    "print(len(State))"
   ]
  },
  {
   "cell_type": "code",
   "execution_count": 50,
   "id": "b1b803a2",
   "metadata": {},
   "outputs": [
    {
     "name": "stdout",
     "output_type": "stream",
     "text": [
      "True\n",
      "Syd\n",
      "['Roger', 20, 'Syd', True]\n",
      "True\n",
      "['Roger', 20, 'Syd', True, 'Judah']\n",
      "['Roger', 20, 'Syd', True, 'Judah', 'Judah', 5, 48]\n",
      "['Roger', 20, True, 'Judah', 'Judah', 5, 48]\n",
      "48\n",
      "['Roger', 20, True, 'Judah', 'Judah', 5]\n",
      "['Roger', 20, 'Test', True, 'Judah', 'Judah', 5]\n",
      "['Roger', 20, 'Test', True, 'Judah', 'Judah', 5]\n",
      "['Roger', 'Test', 'Judah', 'Judah']\n",
      "['Judah', 'Judah', 'Roger', 'Test']\n",
      "['Roger', 'Test', 'Judah', 'Judah']\n",
      "['Judah', 'Judah', 'Roger', 'Test']\n",
      "['Roger', 'Test', 'Judah', 'Judah']\n"
     ]
    }
   ],
   "source": [
    "dogs = [\"Roger\", 1, \"Syd\", True]\n",
    "print(\"Syd\" in dogs)\n",
    "print(dogs[2])\n",
    "dogs[1] = 20\n",
    "print(dogs)\n",
    "print(dogs[-1])\n",
    "dogs.append(\"Judah\")\n",
    "print(dogs)\n",
    "dogs.extend([\"Judah\",5,48])\n",
    "print(dogs)\n",
    "dogs.remove(\"Syd\")\n",
    "print(dogs)\n",
    "print(dogs.pop())\n",
    "print(dogs)\n",
    "dogs.insert(2, \"Test\")\n",
    "print(dogs)\n",
    "\n",
    "list_copy = dogs[:]\n",
    "another_copy = dogs[:]\n",
    "print(list_copy)\n",
    "list_copy.remove(20)\n",
    "list_copy.remove(5)\n",
    "list_copy.remove(True)\n",
    "print(list_copy)\n",
    "list_copy.sort(key=str.lower)#changes the original copy\n",
    "print(list_copy)\n",
    "\n",
    "another_copy.remove(20)\n",
    "another_copy.remove(5)\n",
    "another_copy.remove(True)\n",
    "print(another_copy)\n",
    "print(sorted(another_copy, key=str.lower)) #doesn not change the original list\n",
    "print(another_copy)"
   ]
  },
  {
   "cell_type": "code",
   "execution_count": 1,
   "id": "7e98e2c6",
   "metadata": {},
   "outputs": [
    {
     "data": {
      "text/plain": [
       "[10, 9, 8, 7, 6, 5, 4, 3, 2, 1]"
      ]
     },
     "execution_count": 1,
     "metadata": {},
     "output_type": "execute_result"
    }
   ],
   "source": [
    "mylist = [1,2,3,4,5,6,7,8,9,10]\n",
    "mylist[::-1]"
   ]
  },
  {
   "cell_type": "code",
   "execution_count": 2,
   "id": "98c03171",
   "metadata": {},
   "outputs": [
    {
     "data": {
      "text/plain": [
       "[1, 2, 3, 4, 5, 6, 7, 8, 9, 10]"
      ]
     },
     "execution_count": 2,
     "metadata": {},
     "output_type": "execute_result"
    }
   ],
   "source": [
    "mylist_copy = mylist.copy()\n",
    "mylist_copy"
   ]
  },
  {
   "cell_type": "code",
   "execution_count": 3,
   "id": "4c78d7f0",
   "metadata": {},
   "outputs": [
    {
     "data": {
      "text/plain": [
       "[1, 4, 9, 16, 25, 36, 49, 64, 81, 100]"
      ]
     },
     "execution_count": 3,
     "metadata": {},
     "output_type": "execute_result"
    }
   ],
   "source": [
    "my_list_copy2 = [i*i for i in mylist]\n",
    "my_list_copy2"
   ]
  },
  {
   "cell_type": "code",
   "execution_count": null,
   "id": "255f0217",
   "metadata": {},
   "outputs": [],
   "source": []
  }
 ],
 "metadata": {
  "kernelspec": {
   "display_name": "Python 3 (ipykernel)",
   "language": "python",
   "name": "python3"
  },
  "language_info": {
   "codemirror_mode": {
    "name": "ipython",
    "version": 3
   },
   "file_extension": ".py",
   "mimetype": "text/x-python",
   "name": "python",
   "nbconvert_exporter": "python",
   "pygments_lexer": "ipython3",
   "version": "3.9.12"
  }
 },
 "nbformat": 4,
 "nbformat_minor": 5
}
