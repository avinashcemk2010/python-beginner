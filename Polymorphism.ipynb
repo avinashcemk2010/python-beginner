{
 "cells": [
  {
   "cell_type": "code",
   "execution_count": 1,
   "id": "7b363f64",
   "metadata": {},
   "outputs": [
    {
     "name": "stdout",
     "output_type": "stream",
     "text": [
      "All animals eat\n",
      "Eating dog food\n",
      "Eating cat food\n"
     ]
    }
   ],
   "source": [
    "class Animal:\n",
    "    def eat(self):\n",
    "        print('All animals eat')\n",
    "\n",
    "class Dog(Animal):\n",
    "    def eat(self):\n",
    "        print(\"Eating dog food\")\n",
    "        \n",
    "class Cat(Animal):\n",
    "    def eat(self):\n",
    "        print(\"Eating cat food\")\n",
    "        \n",
    "myAnimal = Animal()\n",
    "myAnimal.eat()\n",
    "\n",
    "myDog = Dog()\n",
    "myDog.eat()\n",
    "\n",
    "myCat = Cat()\n",
    "myCat.eat()"
   ]
  },
  {
   "cell_type": "code",
   "execution_count": null,
   "id": "a79dc056",
   "metadata": {},
   "outputs": [],
   "source": []
  }
 ],
 "metadata": {
  "kernelspec": {
   "display_name": "Python 3 (ipykernel)",
   "language": "python",
   "name": "python3"
  },
  "language_info": {
   "codemirror_mode": {
    "name": "ipython",
    "version": 3
   },
   "file_extension": ".py",
   "mimetype": "text/x-python",
   "name": "python",
   "nbconvert_exporter": "python",
   "pygments_lexer": "ipython3",
   "version": "3.9.12"
  }
 },
 "nbformat": 4,
 "nbformat_minor": 5
}
