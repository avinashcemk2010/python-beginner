{
 "cells": [
  {
   "cell_type": "markdown",
   "id": "716efcff",
   "metadata": {},
   "source": [
    "try:\n",
    "    #some lines of code\n",
    "except <Error1>:\n",
    "    #handle <Error1>\n",
    "except <Error2>:\n",
    "    #handle <Error2>\n",
    "except:\n",
    "    #handle <All Exceptions>\n",
    "else:\n",
    "    #no exceptions were raised, the code ran successfully\n",
    "finally:\n",
    "    #do something in any case\n",
    "    "
   ]
  },
  {
   "cell_type": "code",
   "execution_count": 1,
   "id": "d17079d2",
   "metadata": {},
   "outputs": [
    {
     "name": "stdout",
     "output_type": "stream",
     "text": [
      "cannot divide by zero\n",
      "1\n"
     ]
    }
   ],
   "source": [
    "try:\n",
    "    result = 2/0\n",
    "except ZeroDivisionError:\n",
    "    print(\"cannot divide by zero\")\n",
    "finally:\n",
    "    result=1\n",
    "\n",
    "    print(result)"
   ]
  },
  {
   "cell_type": "code",
   "execution_count": 2,
   "id": "4366c004",
   "metadata": {},
   "outputs": [
    {
     "ename": "Exception",
     "evalue": "An error!",
     "output_type": "error",
     "traceback": [
      "\u001b[1;31m---------------------------------------------------------------------------\u001b[0m",
      "\u001b[1;31mException\u001b[0m                                 Traceback (most recent call last)",
      "Input \u001b[1;32mIn [2]\u001b[0m, in \u001b[0;36m<cell line: 1>\u001b[1;34m()\u001b[0m\n\u001b[1;32m----> 1\u001b[0m \u001b[38;5;28;01mraise\u001b[39;00m \u001b[38;5;167;01mException\u001b[39;00m(\u001b[38;5;124m\"\u001b[39m\u001b[38;5;124mAn error!\u001b[39m\u001b[38;5;124m\"\u001b[39m)\n",
      "\u001b[1;31mException\u001b[0m: An error!"
     ]
    }
   ],
   "source": [
    "raise Exception(\"An error!\")"
   ]
  },
  {
   "cell_type": "code",
   "execution_count": 3,
   "id": "467d7e71",
   "metadata": {},
   "outputs": [
    {
     "name": "stdout",
     "output_type": "stream",
     "text": [
      "An error!\n"
     ]
    }
   ],
   "source": [
    "try:\n",
    "    raise Exception(\"An error!\")\n",
    "except Exception as error:\n",
    "    print(error)"
   ]
  },
  {
   "cell_type": "code",
   "execution_count": 5,
   "id": "6f0a49ab",
   "metadata": {},
   "outputs": [
    {
     "name": "stdout",
     "output_type": "stream",
     "text": [
      "inside\n",
      "Dog not found\n"
     ]
    }
   ],
   "source": [
    "class DogNotFoundException(Exception):\n",
    "    print(\"inside\")\n",
    "    pass\n",
    "\n",
    "try:\n",
    "    raise DogNotFoundException()\n",
    "except DogNotFoundException:\n",
    "    print(\"Dog not found\")"
   ]
  },
  {
   "cell_type": "code",
   "execution_count": 2,
   "id": "58937f02",
   "metadata": {},
   "outputs": [
    {
     "name": "stdout",
     "output_type": "stream",
     "text": [
      "inside\n",
      "No dog was found\n",
      "Dog not found\n"
     ]
    }
   ],
   "source": [
    "class DogNotFoundException(Exception):\n",
    "    print(\"inside\")\n",
    "    pass\n",
    "\n",
    "try:\n",
    "    raise DogNotFoundException(\"No dog was found\")\n",
    "except DogNotFoundException as e:\n",
    "    print(e)\n",
    "    print(\"Dog not found\")"
   ]
  },
  {
   "cell_type": "code",
   "execution_count": 6,
   "id": "2b2010ed",
   "metadata": {},
   "outputs": [
    {
     "name": "stdout",
     "output_type": "stream",
     "text": [
      "300 No dog was found 400\n"
     ]
    }
   ],
   "source": [
    "class DogNotFoundException(Exception):\n",
    "    def __init__(self, msg, val, parent_status):\n",
    "        super().__init__(parent_status)\n",
    "        self.msg = msg\n",
    "        self.val = val\n",
    "\n",
    "try:\n",
    "    raise DogNotFoundException(\"No dog was found\", 400, 300)\n",
    "except DogNotFoundException as e:\n",
    "    print(e, e.msg, e.val)"
   ]
  },
  {
   "cell_type": "code",
   "execution_count": null,
   "id": "df50f1e5",
   "metadata": {},
   "outputs": [],
   "source": []
  }
 ],
 "metadata": {
  "kernelspec": {
   "display_name": "Python 3 (ipykernel)",
   "language": "python",
   "name": "python3"
  },
  "language_info": {
   "codemirror_mode": {
    "name": "ipython",
    "version": 3
   },
   "file_extension": ".py",
   "mimetype": "text/x-python",
   "name": "python",
   "nbconvert_exporter": "python",
   "pygments_lexer": "ipython3",
   "version": "3.9.12"
  }
 },
 "nbformat": 4,
 "nbformat_minor": 5
}
